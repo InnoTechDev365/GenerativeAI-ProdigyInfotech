{
  "cells": [
    {
      "cell_type": "markdown",
      "metadata": {},
      "source": [
        "# 🎨 Neural Style Transfer (Task 05)\n",
        "## 🚀 Apply Artistic Style to Your Images\n",
        "Upload **two images**: one for content (e.g., a photo), one for style (e.g., a painting). The notebook will use only the first two uploaded files."
      ]
    },
    {
      "cell_type": "code",
      "execution_count": null,
      "metadata": {},
      "outputs": [],
      "source": [
        "## 🧠 Check for GPU Acceleration\n",
        "import tensorflow as tf\n",
        "print(\"🚀 Using GPU?\", \"✅\" if tf.config.list_physical_devices('GPU') else \"❌ Switch to GPU Runtime\")"
      ]
    },
    {
      "cell_type": "code",
      "execution_count": null,
      "metadata": {},
      "outputs": [],
      "source": [
        "## 📦 Install Dependencies\n",
        "!pip install -q tensorflow tensorflow-hub pillow matplotlib"
      ]
    },
    {
      "cell_type": "code",
      "execution_count": null,
      "metadata": {},
      "outputs": [],
      "source": [
        "## 🖼️ Upload Your Images\n",
        "from google.colab import files\n",
        "import numpy as np\n",
        "import matplotlib.pyplot as plt\n",
        "from PIL import Image as PILImage\n",
        "import tensorflow as tf\n",
        "import tensorflow_hub as hub\n",
        "import os\n",
        "\n",
        "print(\"📤 Upload two images: one for content, one for style (any format)\")\n",
        "uploaded = files.upload()  # Let user upload images\n",
        "print(\"✅ Files uploaded:\", list(uploaded.keys()))"
      ]
    },
    {
      "cell_type": "code",
      "execution_count": null,
      "metadata": {},
      "outputs": [],
      "source": [
        "## 🔍 Select First Two Images\n",
        "files_list = list(uploaded.keys())\n",
        "if len(files_list) < 2:\n",
        "    raise ValueError(\"❌ Need at least two images: one for content, one for style\")\n",
        "content_path = files_list[0]\n",
        "style_path = files_list[1]\n",
        "print(f\"🖼️ Content Image: {content_path}\")\n",
        "print(f\"🎨 Style Image: {style_path}\")"
      ]
    },
    {
      "cell_type": "code",
      "execution_count": null,
      "metadata": {},
      "outputs": [],
      "source": [
        "## 📷 Load and Preprocess Images\n",
        "def load_image(path, max_dim=512):\n",
        "    \"\"\"Loads and preprocesses any valid image format.\"\"\"\n",
        "    img = PILImage.open(path).convert('RGB')  # Force RGB\n",
        "    img = img.resize((max_dim, max_dim), PILImage.LANCZOS)\n",
        "    img = np.array(img) / 255.0\n",
        "    return img[np.newaxis, :].astype(np.float32)"
      ]
    },
    {
      "cell_type": "code",
      "execution_count": null,
      "metadata": {},
      "outputs": [],
      "source": [
        "## 🧠 Load Pre-Trained Model\n",
        "try:\n",
        "    hub_module = hub.load('https://tfhub.dev/google/magenta/arbitrary-image-stylization-v1-256/2')\n",
        "    print(\"🧠 Model loaded successfully!\")\n",
        "except Exception as e:\n",
        "    print(\"❌ Model load failed:\", str(e))\n",
        "    raise"
      ]
    },
    {
      "cell_type": "code",
      "execution_count": null,
      "metadata": {},
      "outputs": [],
      "source": [
        "## 🖼️ Run Style Transfer\n",
        "try:\n",
        "    content_image = load_image(content_path)\n",
        "    style_image = load_image(style_path)\n",
        "    print(\"🚀 Applying style transfer...\")\n",
        "    outputs = hub_module(tf.constant(content_image), tf.constant(style_image))\n",
        "    stylized_image = outputs[0].numpy()\n",
        "    print(\"✨ Style transfer complete!\")\n",
        "except Exception as e:\n",
        "    print(\"❌ Style transfer failed:\", str(e))\n",
        "    raise"
      ]
    },
    {
      "cell_type": "code",
      "execution_count": null,
      "metadata": {},
      "outputs": [],
      "source": [
        "## 💾 Save Output Image\n",
        "output_path = 'stylized_output.jpg'\n",
        "PILImage.fromarray((stylized_image * 255).astype(np.uint8)).save(output_path)\n",
        "print(\"💾 Stylized image saved as 'stylized_output.jpg'\")"
      ]
    },
    {
      "cell_type": "code",
      "execution_count": null,
      "metadata": {},
      "outputs": [],
      "source": [
        "## 📥 Download Output\n",
        "from google.colab import files as colab_files\n",
        "print(\"📥 Click to download stylized image:\")\n",
        "colab_files.download(output_path)"
      ]
    },
    {
      "cell_type": "code",
      "execution_count": null,
      "metadata": {},
      "outputs": [],
      "source": [
        "## 📊 Display Results (Optional)\n",
        "def imshow(image, title=None):\n",
        "    plt.imshow(image)\n",
        "    if title:\n",
        "        plt.title(title)\n",
        "    plt.axis('off')\n",
        "    plt.show()\n",
        "\n",
        "try:\n",
        "    plt.figure(figsize=(15, 5))\n",
        "    plt.subplot(1, 3, 1)\n",
        "    imshow(content_image[0], 'Content Image')\n",
        "    plt.subplot(1, 3, 2)\n",
        "    imshow(style_image[0], 'Style Image')\n",
        "    plt.subplot(1, 3, 3)\n",
        "    imshow(stylized_image, 'Stylized Output')\n",
        "    plt.show()\n",
        "except Exception as e:\n",
        "    print(\"⚠️ Visualization failed:\", str(e))\n",
        "    print(\"✅ Stylized image is still available for download below\")"
      ]
    }
  ],
  "metadata": {
    "colab": {
      "name": "Task05_Style_Transfer.ipynb"
    },
    "kernelspec": {
      "name": "python3",
      "display_name": "Python 3"
    },
    "language_info": {
      "name": "python"
    }
  },
  "nbformat": 4,
  "nbformat_minor": 5
}