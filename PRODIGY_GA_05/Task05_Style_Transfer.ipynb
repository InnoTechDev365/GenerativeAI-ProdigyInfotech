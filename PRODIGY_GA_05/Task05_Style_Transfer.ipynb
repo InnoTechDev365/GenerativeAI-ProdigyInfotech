{
  "cells": [
    {
      "cell_type": "markdown",
      "metadata": {},
      "source": [
        "# 🎨 Neural Style Transfer with TensorFlow Hub\n",
        "## 🎯 Apply Artistic Style to Your Images\n",
        "This notebook blends the content of one image with the style of another using a pre-trained model from TensorFlow Hub.\n",
        "Upload your own images and run all cells to see the magic!"
      ]
    },
    {
      "cell_type": "code",
      "execution_count": null,
      "metadata": {},
      "outputs": [],
      "source": [
        "## 📦 Install Required Libraries\n",
        "!pip install -q tensorflow tensorflow-hub pillow matplotlib"
      ]
    },
    {
      "cell_type": "code",
      "execution_count": null,
      "metadata": {},
      "outputs": [],
      "source": [
        "## 🖼️ Upload Your Images\n",
        "from google.colab import files\n",
        "import numpy as np\n",
        "import matplotlib.pyplot as plt\n",
        "from PIL import Image\n",
        "import tensorflow as tf\n",
        "import tensorflow_hub as hub\n",
        "\n",
        "print(\"Upload your content and style images (.jpg or .png)\")\n",
        "uploaded = files.upload()  # Let user upload images\n",
        "\n",
        "print(\"\\n✅ Files uploaded:\", list(uploaded.keys()))"
      ]
    },
    {
      "cell_type": "code",
      "execution_count": null,
      "metadata": {},
      "outputs": [],
      "source": [
        "## 📁 Define Image Paths (Update These if Needed)\n",
        "# Replace with your actual filenames\n",
        "content_image_path = 'content.jpg'  # Example: 'my_photo.jpg'\n",
        "style_image_path = 'style.jpg'    # Example: 'van_gogh.jpg'"
      ]
    },
    {
      "cell_type": "code",
      "execution_count": null,
      "metadata": {},
      "outputs": [],
      "source": [
        "## 📷 Load and Preprocess Images\n",
        "def load_image(image_path, image_size=(256, 256)):\n",
        "    \"\"\"Loads and preprocesses an image from file.\"\"\"\n",
        "    img = Image.open(image_path).convert('RGB').resize(image_size, Image.LANCZOS)\n",
        "    img = np.array(img) / 255.0\n",
        "    return img.astype(np.float32)"
      ]
    },
    {
      "cell_type": "code",
      "execution_count": null,
      "metadata": {},
      "outputs": [],
      "source": [
        "## 🧠 Load Pre-Trained Style Transfer Model\n",
        "hub_handle = 'https://tfhub.dev/google/magenta/arbitrary-image-stylization-v1-256/2'\n",
        "hub_module = hub.load(hub_handle)\n",
        "print(\"🧠 Model loaded successfully!\")"
      ]
    },
    {
      "cell_type": "code",
      "execution_count": null,
      "metadata": {},
      "outputs": [],
      "source": [
        "## 🖼️ Stylize Your Image\n",
        "def stylize(content, style):\n",
        "    \"\"\"Applies style transfer using loaded model.\"\"\"\n",
        "    content = tf.constant(content)\n",
        "    style = tf.constant(style)\n",
        "    outputs = hub_module(tf.constant(content), tf.constant(style))\n",
        "    return outputs[0].numpy()"
      ]
    },
    {
      "cell_type": "code",
      "execution_count": null,
      "metadata": {},
      "outputs": [],
      "source": [
        "## 🧪 Run Style Transfer on Your Images\n",
        "try:\n",
        "    content_image = load_image(content_image_path)\n",
        "    style_image = load_image(style_image_path)\n",
        "    \n",
        "    print(\"🚀 Applying style transfer...\")\n",
        "    stylized_image = stylize(content_image, style_image)\n",
        "    print(\"✨ Style transfer complete!\")\n",
        "    \n",
        "    # Save the output\n",
        "    Image.fromarray((stylized_image * 255).astype(np.uint8)).save('stylized_output.jpg')\n",
        "    print(\"💾 Stylized image saved as 'stylized_output.jpg'\")\n",
        "    \n",
        "except FileNotFoundError as e:\n",
        "    print(\"❌ Error: File not found. Did you upload both images?\")\n",
        "    print(\"Please re-upload your content and style images.\")\n",
        "except Exception as e:\n",
        "    print(\"❌ An error occurred:\", str(e))"
      ]
    },
    {
      "cell_type": "code",
      "execution_count": null,
      "metadata": {},
      "outputs": [],
      "source": [
        "## 📊 Display Results\n",
        "def imshow(image, title=None):\n",
        "    \"\"\"Displays an image with optional title.\"\"\"\n",
        "    plt.imshow(image)\n",
        "    if title:\n",
        "        plt.title(title)\n",
        "    plt.axis('off')\n",
        "    plt.show()\n",
        "\n",
        "plt.figure(figsize=(15, 5))\n",
        "plt.subplot(1, 3, 1)\n",
        "imshow(content_image, 'Content Image')\n",
        "plt.subplot(1, 3, 2)\n",
        "imshow(style_image, 'Style Image')\n",
        "plt.subplot(1, 3, 3)\n",
        "imshow(stylized_image, 'Stylized Output')"
      ]
    }
  ],
  "metadata": {
    "colab": {
      "name": "Task05_Style_Transfer.ipynb",
      "provenance": []
    },
    "kernelspec": {
      "display_name": "Python 3",
      "language": "python",
      "name": "python3"
    },
    "language_info": {
      "codemirror_mode": {
        "name": "ipython",
        "version": 3
      },
      "file_extension": ".py",
      "mimetype": "text/x-python",
      "name": "python",
      "nbconvert_exporter": "python",
      "pygments_lexer": "ipython3",
      "version": "3.9"
    }
  },
  "nbformat": 4,
  "nbformat_minor": 5
}
