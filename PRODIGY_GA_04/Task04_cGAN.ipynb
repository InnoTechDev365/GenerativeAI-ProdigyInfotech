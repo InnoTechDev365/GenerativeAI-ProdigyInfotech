{
  "cells": [
    {
      "cell_type": "markdown",
      "metadata": {},
      "source": [
        "# 🖼️ Task 04: Image-to-Image Translation using Pix2Pix (cGAN)\n",
        "\n",
        "This notebook demonstrates how to build and train a **conditional Generative Adversarial Network (cGAN)** called **Pix2Pix**, which performs **image-to-image translation** using paired datasets.\n",
        "\n",
        "---"
      ]
    },
    {
      "cell_type": "code",
      "execution_count": null,
      "metadata": {},
      "outputs": [],
      "source": [
        "!pip install tensorflow matplotlib\n",
        "!pip install tensorflow-datasets"
      ]
    },
    {
      "cell_type": "code",
      "execution_count": null,
      "metadata": {},
      "outputs": [],
      "source": [
        "import tensorflow as tf\n",
        "import tensorflow_datasets as tfds\n",
        "import numpy as np\n",
        "import matplotlib.pyplot as plt\n",
        "import os"
      ]
    },
    {
      "cell_type": "markdown",
      "metadata": {},
      "source": [
        "## 📚 Load Dataset (Horse → Zebra)"
      ]
    },
    {
      "cell_type": "code",
      "execution_count": null,
      "metadata": {},
      "outputs": [],
      "source": [
        "def normalize(input_image, input_mask):\n",
        "    input_image = tf.cast(input_image, tf.float32) / 127.5 - 1\n",
        "    return input_image\n",
        "\n",
        "def load_dataset(name='cycle_gan/horse2zebra', split='train'):\n",
        "    dataset, metadata = tfds.load(name=name, with_info=True, as_supervised=True)\n",
        "    train_dataset = dataset.map(lambda x, y: (normalize(x['input_image'], None), normalize(y['target_image'], None)))\n",
        "    return train_dataset.batch(1).take(100)"
      ]
    },
    {
      "cell_type": "markdown",
      "metadata": {},
      "source": [
        "## 🧠 Define Generator (U-Net)"
      ]
    },
    {
      "cell_type": "code",
      "execution_count": null,
      "metadata": {},
      "outputs": [],
      "source": [
        "def downsample(filters, size, apply_batchnorm=True):\n",
        "    initializer = tf.random_normal_initializer(0., 0.02)\n",
        "    result = tf.keras.Sequential()\n",
        "    result.add(Conv2D(filters, size, strides=2, padding='same',\n",
        "                      kernel_initializer=initializer, use_bias=False))\n",
        "    if apply_batchnorm:\n",
        "        result.add(tf.keras.layers.BatchNormalization())\n",
        "    result.add(tf.keras.layers.LeakyReLU())\n",
        "    return result\n",
        "\n",
        "def upsample(filters, size, apply_dropout=False):\n",
        "    initializer = tf.random_normal_initializer(0., 0.02)\n",
        "    result = tf.keras.Sequential()\n",
        "    result.add(Conv2DTranspose(filters, size, strides=2,\n",
        "                               padding='same',\n",
        "                               kernel_initializer=initializer,\n",
        "                               use_bias=False))\n",
        "    result.add(tf.keras.layers.BatchNormalization())\n",
        "    if apply_dropout:\n",
        "        result.add(Dropout(0.5))\n",
        "    result.add(tf.keras.layers.ReLU())\n",
        "    return result\n",
        "\n",
        "def Generator():\n",
        "    inputs = Input(shape=[256, 256, 3])\n",
        "    down_stack = [\n",
        "        downsample(64, 4, False),\n",
        "        downsample(128, 4),\n",
        "        downsample(256, 4),\n",
        "        downsample(512, 4),\n",
        "        downsample(512, 4),\n",
        "        downsample(512, 4),\n",
        "        downsample(512, 4),\n",
        "        downsample(512, 4)\n",
        "    ]\n",
        "    up_stack = [\n",
        "        upsample(512, 4, apply_dropout=True),\n",
        "        upsample(512, 4, apply_dropout=True),\n",
        "        upsample(512, 4, apply_dropout=True),\n",
        "        upsample(512, 4),\n",
        "        upsample(256, 4),\n",
        "        upsample(128, 4),\n",
        "        upsample(64, 4)\n",
        "    ]\n",
        "    initializer = tf.random_normal_initializer(0., 0.02)\n",
        "    last = Conv2DTranspose(3, 4, strides=2, padding='same',\n",
        "                             kernel_initializer=initializer, activation='tanh')\n",
        "    x = inputs\n",
        "    skips = []\n",
        "    for down in down_stack:\n",
        "        x = down(x)\n",
        "        skips.append(x)\n",
        "    skips = reversed(skips[:-1])\n",
        "    for up, skip in zip(up_stack, skips):\n",
        "        x = up(x)\n",
        "        x = Concatenate()([x, skip])\n",
        "    x = last(x)\n",
        "    return Model(inputs=inputs, outputs=x)"
      ]
    },
    {
      "cell_type": "markdown",
      "metadata": {},
      "source": [
        "## 🛡 Define Discriminator (PatchGAN)"
      ]
    },
    {
      "cell_type": "code",
      "execution_count": null,
      "metadata": {},
      "outputs": [],
      "source": [
        "def Discriminator():\n",
        "    inp = Input(shape=[256, 256, 3], name='input_image')\n",
        "    tar = Input(shape=[256, 256, 3], name='target_image')\n",
        "    x = Concatenate()([inp, tar])\n",
        "    down1 = downsample(64, 4, False)(x)\n",
        "    down2 = downsample(128, 4)(down1)\n",
        "    down3 = downsample(256, 4)(down2)\n",
        "    zero_pad1 = tf.keras.layers.ZeroPadding2D()(down3)\n",
        "    conv = Conv2D(512, 4, strides=1, kernel_initializer=initializer, use_bias=False)(zero_pad1)\n",
        "    batchnorm1 = BatchNormalization()(conv)\n",
        "    leaky_relu = LeakyReLU()(batchnorm1)\n",
        "    zero_pad2 = ZeroPadding2D()(leaky_relu)\n",
        "    last = Conv2D(1, 4, strides=1, kernel_initializer=initializer)(zero_pad2)\n",
        "    return Model(inputs=[inp, tar], outputs=last)"
      ]
    },
    {
      "cell_type": "markdown",
      "metadata": {},
      "source": [
        "## 🧮 Define Losses and Optimizers"
      ]
    },
    {
      "cell_type": "code",
      "execution_count": null,
      "metadata": {},
      "outputs": [],
      "source": [
        "LAMBDA = 100\n",
        "loss_object = tf.keras.losses.BinaryCrossentropy(from_logits=True)\n",
        "\n",
        "def discriminator_loss(real, generated):\n",
        "    real_loss = loss_object(tf.ones_like(real), real)\n",
        "    generated_loss = loss_object(tf.zeros_like(generated), generated)\n",
        "    total_disc_loss = real_loss + generated_loss\n",
        "    return total_disc_loss\n",
        "\n",
        "def generator_loss(generated):\n",
        "    gan_loss = loss_object(tf.ones_like(generated), generated)\n",
        "    l1_loss = tf.reduce_mean(tf.abs(generated))\n",
        "    total_gen_loss = gan_loss + LAMBDA * l1_loss\n",
        "    return total_gen_loss"
      ]
    },
    {
      "cell_type": "markdown",
      "metadata": {},
      "source": [
        "## 🏋️‍♂️ Train Step"
      ]
    },
    {
      "cell_type": "code",
      "execution_count": null,
      "metadata": {},
      "outputs": [],
      "source": [
        "@tf.function\n",
        "def train_step(input_image, target):\n",
        "    with tf.GradientTape() as gen_tape, tf.GradientTape() as disc_tape:\n",
        "        gen_output = generator(input_image, training=True)\n",
        "        disc_real_output = discriminator([input_image, target], training=True)\n",
        "        disc_generated_output = discriminator([input_image, gen_output], training=True)\n",
        "        gen_total_loss = generator_loss(disc_generated_output)\n",
        "        disc_loss = discriminator_loss(disc_real_output, disc_generated_output)\n",
        "    generator_gradients = gen_tape.gradient(gen_total_loss,\n",
        "                                      generator.trainable_variables)\n",
        "    discriminator_gradients = disc_tape.gradient(disc_loss,\n",
        "                                          discriminator.trainable_variables)\n",
        "    generator_optimizer.apply_gradients(zip(generator_gradients,\n",
        "                                      generator.trainable_variables))\n",
        "    discriminator_optimizer.apply_gradients(zip(discriminator_gradients,\n",
        "                                            discriminator.trainable_variables))\n",
        "    return gen_total_loss, disc_loss"
      ]
    },
    {
      "cell_type": "markdown",
      "metadata": {},
      "source": [
        "## 🧪 Training Loop"
      ]
    },
    {
      "cell_type": "code",
      "execution_count": null,
      "metadata": {},
      "outputs": [],
      "source": [
        "def train(dataset, epochs=40):\n",
        "    for epoch in range(epochs):\n",
        "        print(f'Epoch {epoch+1}/{epochs}')\n",
        "        for n, (input_image, target) in dataset.enumerate():\n",
        "            gen_loss, disc_loss = train_step(input_image, target)\n",
        "            if n % 10 == 0:\n",
        "                print(f'Step {n}, Gen Loss: {gen_loss:.4f}, Disc Loss: {disc_loss:.4f}')\n",
        "        if (epoch + 1) % 10 == 0:\n",
        "            checkpoint.save(file_prefix=checkpoint_prefix)\n",
        "            generate_images(generator, input_image, target, epoch)"
      ]
    },
    {
      "cell_type": "markdown",
      "metadata": {},
      "source": [
        "## 📊 Visualization"
      ]
    },
    {
      "cell_type": "code",
      "execution_count": null,
      "metadata": {},
      "outputs": [],
      "source": [
        "def generate_images(model, test_input, target, epoch=None):\n",
        "    prediction = model(test_input, training=True)\n",
        "    plt.figure(figsize=(12, 4))\n",
        "    display_list = [test_input[0].numpy(), target[0].numpy(), prediction[0].numpy()]\n",
        "    title = ['Input Image', 'Ground Truth', 'Predicted Image']\n",
        "    for i in range(3):\n",
        "        plt.subplot(1, 3, i+1)\n",
        "        plt.title(title[i])\n",
        "        plt.imshow(display_list[i] * 0.5 + 0.5)\n",
        "        plt.axis('off')\n",
        "    if epoch is not None:\n",
        "        plt.savefig(f\"image_at_epoch_{epoch}.png\")\n",
        "    plt.show()"
      ]
    },
    {
      "cell_type": "markdown",
      "metadata": {},
      "source": [
        "## 🚀 Main Execution"
      ]
    },
    {
      "cell_type": "code",
      "execution_count": null,
      "metadata": {},
      "outputs": [],
      "source": [
        "generator = Generator()\n",
        "discriminator = Discriminator()\n",
        "\n",
        "generator_optimizer = tf.keras.optimizers.Adam(2e-4, beta_1=0.5)\n",
        "discriminator_optimizer = tf.keras.optimizers.Adam(2e-4, beta_1=0.5)\n",
        "\n",
        "train_dataset = load_dataset()\n",
        "\n",
        "EPOCHS = 40\n",
        "train(train_dataset, EPOCHS)"
      ]
    }
  ],
  "metadata": {
    "colab": {
      "name": "Task04_cGAN.ipynb",
      "provenance": []
    },
    "kernelspec": {
      "display_name": "Python 3",
      "language": "python",
      "name": "python3"
    },
    "language_info": {
      "codemirror_mode": {
        "name": "ipython",
        "version": 3
      },
      "file_extension": ".py",
      "mimetype": "text/x-python",
      "name": "python",
      "nbconvert_exporter": "python",
      "pygments_lexer": "ipython3",
      "version": "3.9"
    }
  },
  "nbformat": 4,
  "nbformat_minor": 5
}
